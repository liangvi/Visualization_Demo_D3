{
 "cells": [
  {
   "cell_type": "code",
   "execution_count": 36,
   "metadata": {},
   "outputs": [],
   "source": [
    "import datetime\n",
    "\n",
    "import pandas as pd\n",
    "from sklearn import linear_model\n",
    "from sklearn.model_selection import train_test_split\n",
    "import matplotlib.pyplot as plt\n",
    "import numpy as np\n",
    "from sklearn.neighbors import KNeighborsClassifier\n",
    "from sklearn.preprocessing import OneHotEncoder\n",
    "from sklearn.feature_extraction.text import CountVectorizer\n",
    "from sklearn.model_selection import GridSearchCV\n",
    "from sklearn.linear_model import Ridge\n",
    "from sklearn.linear_model import Lasso\n",
    "from sklearn.linear_model import ElasticNet\n",
    "\n",
    "from sklearn.metrics import accuracy_score\n",
    "from sklearn.metrics import mean_squared_error\n",
    "from sklearn.metrics import r2_score\n",
    "\n",
    "from scipy.sparse import csr_matrix, hstack, coo_matrix\n",
    "\n",
    "import string\n",
    "from sklearn.feature_extraction import stop_words\n",
    "from sklearn.feature_extraction.text import CountVectorizer\n",
    "from sklearn.feature_extraction.text import TfidfVectorizer\n",
    "from sklearn.feature_extraction import DictVectorizer\n",
    "\n",
    "from nltk.stem.snowball import EnglishStemmer\n",
    "import nltk\n",
    "\n",
    "import pickle\n",
    "\n",
    "from sklearn.decomposition import LatentDirichletAllocation"
   ]
  },
  {
   "cell_type": "code",
   "execution_count": 2,
   "metadata": {},
   "outputs": [],
   "source": [
    "business = pd.read_json('yelp_dataset/business.json', lines=True)\n",
    "#checkin = pd.read_json('yelp_dataset/checkin.json', lines=True)\n",
    "#photo = pd.read_json('yelp_dataset/photo.json', lines=True)\n",
    "#review =  pd.read_json('yelp_dataset/review.json', lines=True)\n",
    "#tip = pd.read_json('yelp_dataset/tip.json', lines=True)\n",
    "##user = pd.read_json('yelp_dataset/user.json', lines=True)"
   ]
  },
  {
   "cell_type": "code",
   "execution_count": 3,
   "metadata": {},
   "outputs": [
    {
     "data": {
      "text/html": [
       "<div>\n",
       "<style scoped>\n",
       "    .dataframe tbody tr th:only-of-type {\n",
       "        vertical-align: middle;\n",
       "    }\n",
       "\n",
       "    .dataframe tbody tr th {\n",
       "        vertical-align: top;\n",
       "    }\n",
       "\n",
       "    .dataframe thead th {\n",
       "        text-align: right;\n",
       "    }\n",
       "</style>\n",
       "<table border=\"1\" class=\"dataframe\">\n",
       "  <thead>\n",
       "    <tr style=\"text-align: right;\">\n",
       "      <th></th>\n",
       "      <th>address</th>\n",
       "      <th>attributes</th>\n",
       "      <th>business_id</th>\n",
       "      <th>categories</th>\n",
       "      <th>city</th>\n",
       "      <th>hours</th>\n",
       "      <th>is_open</th>\n",
       "      <th>latitude</th>\n",
       "      <th>longitude</th>\n",
       "      <th>name</th>\n",
       "      <th>postal_code</th>\n",
       "      <th>review_count</th>\n",
       "      <th>stars</th>\n",
       "      <th>state</th>\n",
       "    </tr>\n",
       "  </thead>\n",
       "  <tbody>\n",
       "    <tr>\n",
       "      <th>0</th>\n",
       "      <td>2818 E Camino Acequia Drive</td>\n",
       "      <td>{'GoodForKids': 'False'}</td>\n",
       "      <td>1SWheh84yJXfytovILXOAQ</td>\n",
       "      <td>Golf, Active Life</td>\n",
       "      <td>Phoenix</td>\n",
       "      <td>None</td>\n",
       "      <td>0</td>\n",
       "      <td>33.522143</td>\n",
       "      <td>-112.018481</td>\n",
       "      <td>Arizona Biltmore Golf Club</td>\n",
       "      <td>85016</td>\n",
       "      <td>5</td>\n",
       "      <td>3.0</td>\n",
       "      <td>AZ</td>\n",
       "    </tr>\n",
       "    <tr>\n",
       "      <th>1</th>\n",
       "      <td>30 Eglinton Avenue W</td>\n",
       "      <td>{'RestaurantsReservations': 'True', 'GoodForMe...</td>\n",
       "      <td>QXAEGFB4oINsVuTFxEYKFQ</td>\n",
       "      <td>Specialty Food, Restaurants, Dim Sum, Imported...</td>\n",
       "      <td>Mississauga</td>\n",
       "      <td>{'Monday': '9:0-0:0', 'Tuesday': '9:0-0:0', 'W...</td>\n",
       "      <td>1</td>\n",
       "      <td>43.605499</td>\n",
       "      <td>-79.652289</td>\n",
       "      <td>Emerald Chinese Restaurant</td>\n",
       "      <td>L5R 3E7</td>\n",
       "      <td>128</td>\n",
       "      <td>2.5</td>\n",
       "      <td>ON</td>\n",
       "    </tr>\n",
       "    <tr>\n",
       "      <th>2</th>\n",
       "      <td>10110 Johnston Rd, Ste 15</td>\n",
       "      <td>{'GoodForKids': 'True', 'NoiseLevel': 'u'avera...</td>\n",
       "      <td>gnKjwL_1w79qoiV3IC_xQQ</td>\n",
       "      <td>Sushi Bars, Restaurants, Japanese</td>\n",
       "      <td>Charlotte</td>\n",
       "      <td>{'Monday': '17:30-21:30', 'Wednesday': '17:30-...</td>\n",
       "      <td>1</td>\n",
       "      <td>35.092564</td>\n",
       "      <td>-80.859132</td>\n",
       "      <td>Musashi Japanese Restaurant</td>\n",
       "      <td>28210</td>\n",
       "      <td>170</td>\n",
       "      <td>4.0</td>\n",
       "      <td>NC</td>\n",
       "    </tr>\n",
       "    <tr>\n",
       "      <th>3</th>\n",
       "      <td>15655 W Roosevelt St, Ste 237</td>\n",
       "      <td>None</td>\n",
       "      <td>xvX2CttrVhyG2z1dFg_0xw</td>\n",
       "      <td>Insurance, Financial Services</td>\n",
       "      <td>Goodyear</td>\n",
       "      <td>{'Monday': '8:0-17:0', 'Tuesday': '8:0-17:0', ...</td>\n",
       "      <td>1</td>\n",
       "      <td>33.455613</td>\n",
       "      <td>-112.395596</td>\n",
       "      <td>Farmers Insurance - Paul Lorenz</td>\n",
       "      <td>85338</td>\n",
       "      <td>3</td>\n",
       "      <td>5.0</td>\n",
       "      <td>AZ</td>\n",
       "    </tr>\n",
       "    <tr>\n",
       "      <th>4</th>\n",
       "      <td>4209 Stuart Andrew Blvd, Ste F</td>\n",
       "      <td>{'BusinessAcceptsBitcoin': 'False', 'ByAppoint...</td>\n",
       "      <td>HhyxOkGAM07SRYtlQ4wMFQ</td>\n",
       "      <td>Plumbing, Shopping, Local Services, Home Servi...</td>\n",
       "      <td>Charlotte</td>\n",
       "      <td>{'Monday': '7:0-23:0', 'Tuesday': '7:0-23:0', ...</td>\n",
       "      <td>1</td>\n",
       "      <td>35.190012</td>\n",
       "      <td>-80.887223</td>\n",
       "      <td>Queen City Plumbing</td>\n",
       "      <td>28217</td>\n",
       "      <td>4</td>\n",
       "      <td>4.0</td>\n",
       "      <td>NC</td>\n",
       "    </tr>\n",
       "  </tbody>\n",
       "</table>\n",
       "</div>"
      ],
      "text/plain": [
       "                          address  \\\n",
       "0     2818 E Camino Acequia Drive   \n",
       "1            30 Eglinton Avenue W   \n",
       "2       10110 Johnston Rd, Ste 15   \n",
       "3   15655 W Roosevelt St, Ste 237   \n",
       "4  4209 Stuart Andrew Blvd, Ste F   \n",
       "\n",
       "                                          attributes             business_id  \\\n",
       "0                           {'GoodForKids': 'False'}  1SWheh84yJXfytovILXOAQ   \n",
       "1  {'RestaurantsReservations': 'True', 'GoodForMe...  QXAEGFB4oINsVuTFxEYKFQ   \n",
       "2  {'GoodForKids': 'True', 'NoiseLevel': 'u'avera...  gnKjwL_1w79qoiV3IC_xQQ   \n",
       "3                                               None  xvX2CttrVhyG2z1dFg_0xw   \n",
       "4  {'BusinessAcceptsBitcoin': 'False', 'ByAppoint...  HhyxOkGAM07SRYtlQ4wMFQ   \n",
       "\n",
       "                                          categories         city  \\\n",
       "0                                  Golf, Active Life      Phoenix   \n",
       "1  Specialty Food, Restaurants, Dim Sum, Imported...  Mississauga   \n",
       "2                  Sushi Bars, Restaurants, Japanese    Charlotte   \n",
       "3                      Insurance, Financial Services     Goodyear   \n",
       "4  Plumbing, Shopping, Local Services, Home Servi...    Charlotte   \n",
       "\n",
       "                                               hours  is_open   latitude  \\\n",
       "0                                               None        0  33.522143   \n",
       "1  {'Monday': '9:0-0:0', 'Tuesday': '9:0-0:0', 'W...        1  43.605499   \n",
       "2  {'Monday': '17:30-21:30', 'Wednesday': '17:30-...        1  35.092564   \n",
       "3  {'Monday': '8:0-17:0', 'Tuesday': '8:0-17:0', ...        1  33.455613   \n",
       "4  {'Monday': '7:0-23:0', 'Tuesday': '7:0-23:0', ...        1  35.190012   \n",
       "\n",
       "    longitude                             name postal_code  review_count  \\\n",
       "0 -112.018481       Arizona Biltmore Golf Club       85016             5   \n",
       "1  -79.652289       Emerald Chinese Restaurant     L5R 3E7           128   \n",
       "2  -80.859132      Musashi Japanese Restaurant       28210           170   \n",
       "3 -112.395596  Farmers Insurance - Paul Lorenz       85338             3   \n",
       "4  -80.887223              Queen City Plumbing       28217             4   \n",
       "\n",
       "   stars state  \n",
       "0    3.0    AZ  \n",
       "1    2.5    ON  \n",
       "2    4.0    NC  \n",
       "3    5.0    AZ  \n",
       "4    4.0    NC  "
      ]
     },
     "execution_count": 3,
     "metadata": {},
     "output_type": "execute_result"
    }
   ],
   "source": [
    "business.head()"
   ]
  },
  {
   "cell_type": "code",
   "execution_count": 4,
   "metadata": {},
   "outputs": [],
   "source": [
    "#https://github.com/pandas-dev/pandas/issues/18152\n",
    "\n",
    "max_records = 1e5\n",
    "df = pd.read_json('yelp_dataset/review.json', lines=True, chunksize=max_records)\n",
    "reviews = pd.DataFrame() # Initialize the dataframe\n",
    "try:\n",
    "   for df_chunk in df:\n",
    "       reviews = pd.concat([reviews, df_chunk])\n",
    "except ValueError:\n",
    "       print ('\\nSome messages in the file cannot be parsed')"
   ]
  },
  {
   "cell_type": "code",
   "execution_count": 5,
   "metadata": {},
   "outputs": [
    {
     "name": "stdout",
     "output_type": "stream",
     "text": [
      "(6685900, 9)\n"
     ]
    },
    {
     "data": {
      "text/html": [
       "<div>\n",
       "<style scoped>\n",
       "    .dataframe tbody tr th:only-of-type {\n",
       "        vertical-align: middle;\n",
       "    }\n",
       "\n",
       "    .dataframe tbody tr th {\n",
       "        vertical-align: top;\n",
       "    }\n",
       "\n",
       "    .dataframe thead th {\n",
       "        text-align: right;\n",
       "    }\n",
       "</style>\n",
       "<table border=\"1\" class=\"dataframe\">\n",
       "  <thead>\n",
       "    <tr style=\"text-align: right;\">\n",
       "      <th></th>\n",
       "      <th>business_id</th>\n",
       "      <th>cool</th>\n",
       "      <th>date</th>\n",
       "      <th>funny</th>\n",
       "      <th>review_id</th>\n",
       "      <th>stars</th>\n",
       "      <th>text</th>\n",
       "      <th>useful</th>\n",
       "      <th>user_id</th>\n",
       "    </tr>\n",
       "  </thead>\n",
       "  <tbody>\n",
       "    <tr>\n",
       "      <th>0</th>\n",
       "      <td>ujmEBvifdJM6h6RLv4wQIg</td>\n",
       "      <td>0</td>\n",
       "      <td>2013-05-07 04:34:36</td>\n",
       "      <td>1</td>\n",
       "      <td>Q1sbwvVQXV2734tPgoKj4Q</td>\n",
       "      <td>1</td>\n",
       "      <td>Total bill for this horrible service? Over $8G...</td>\n",
       "      <td>6</td>\n",
       "      <td>hG7b0MtEbXx5QzbzE6C_VA</td>\n",
       "    </tr>\n",
       "    <tr>\n",
       "      <th>1</th>\n",
       "      <td>NZnhc2sEQy3RmzKTZnqtwQ</td>\n",
       "      <td>0</td>\n",
       "      <td>2017-01-14 21:30:33</td>\n",
       "      <td>0</td>\n",
       "      <td>GJXCdrto3ASJOqKeVWPi6Q</td>\n",
       "      <td>5</td>\n",
       "      <td>I *adore* Travis at the Hard Rock's new Kelly ...</td>\n",
       "      <td>0</td>\n",
       "      <td>yXQM5uF2jS6es16SJzNHfg</td>\n",
       "    </tr>\n",
       "    <tr>\n",
       "      <th>2</th>\n",
       "      <td>WTqjgwHlXbSFevF32_DJVw</td>\n",
       "      <td>0</td>\n",
       "      <td>2016-11-09 20:09:03</td>\n",
       "      <td>0</td>\n",
       "      <td>2TzJjDVDEuAW6MR5Vuc1ug</td>\n",
       "      <td>5</td>\n",
       "      <td>I have to say that this office really has it t...</td>\n",
       "      <td>3</td>\n",
       "      <td>n6-Gk65cPZL6Uz8qRm3NYw</td>\n",
       "    </tr>\n",
       "    <tr>\n",
       "      <th>3</th>\n",
       "      <td>ikCg8xy5JIg_NGPx-MSIDA</td>\n",
       "      <td>0</td>\n",
       "      <td>2018-01-09 20:56:38</td>\n",
       "      <td>0</td>\n",
       "      <td>yi0R0Ugj_xUx_Nek0-_Qig</td>\n",
       "      <td>5</td>\n",
       "      <td>Went in for a lunch. Steak sandwich was delici...</td>\n",
       "      <td>0</td>\n",
       "      <td>dacAIZ6fTM6mqwW5uxkskg</td>\n",
       "    </tr>\n",
       "    <tr>\n",
       "      <th>4</th>\n",
       "      <td>b1b1eb3uo-w561D0ZfCEiQ</td>\n",
       "      <td>0</td>\n",
       "      <td>2018-01-30 23:07:38</td>\n",
       "      <td>0</td>\n",
       "      <td>11a8sVPMUFtaC7_ABRkmtw</td>\n",
       "      <td>1</td>\n",
       "      <td>Today was my second out of three sessions I ha...</td>\n",
       "      <td>7</td>\n",
       "      <td>ssoyf2_x0EQMed6fgHeMyQ</td>\n",
       "    </tr>\n",
       "  </tbody>\n",
       "</table>\n",
       "</div>"
      ],
      "text/plain": [
       "              business_id  cool                date  funny  \\\n",
       "0  ujmEBvifdJM6h6RLv4wQIg     0 2013-05-07 04:34:36      1   \n",
       "1  NZnhc2sEQy3RmzKTZnqtwQ     0 2017-01-14 21:30:33      0   \n",
       "2  WTqjgwHlXbSFevF32_DJVw     0 2016-11-09 20:09:03      0   \n",
       "3  ikCg8xy5JIg_NGPx-MSIDA     0 2018-01-09 20:56:38      0   \n",
       "4  b1b1eb3uo-w561D0ZfCEiQ     0 2018-01-30 23:07:38      0   \n",
       "\n",
       "                review_id  stars  \\\n",
       "0  Q1sbwvVQXV2734tPgoKj4Q      1   \n",
       "1  GJXCdrto3ASJOqKeVWPi6Q      5   \n",
       "2  2TzJjDVDEuAW6MR5Vuc1ug      5   \n",
       "3  yi0R0Ugj_xUx_Nek0-_Qig      5   \n",
       "4  11a8sVPMUFtaC7_ABRkmtw      1   \n",
       "\n",
       "                                                text  useful  \\\n",
       "0  Total bill for this horrible service? Over $8G...       6   \n",
       "1  I *adore* Travis at the Hard Rock's new Kelly ...       0   \n",
       "2  I have to say that this office really has it t...       3   \n",
       "3  Went in for a lunch. Steak sandwich was delici...       0   \n",
       "4  Today was my second out of three sessions I ha...       7   \n",
       "\n",
       "                  user_id  \n",
       "0  hG7b0MtEbXx5QzbzE6C_VA  \n",
       "1  yXQM5uF2jS6es16SJzNHfg  \n",
       "2  n6-Gk65cPZL6Uz8qRm3NYw  \n",
       "3  dacAIZ6fTM6mqwW5uxkskg  \n",
       "4  ssoyf2_x0EQMed6fgHeMyQ  "
      ]
     },
     "execution_count": 5,
     "metadata": {},
     "output_type": "execute_result"
    }
   ],
   "source": [
    "print(reviews.shape)\n",
    "reviews.head()"
   ]
  },
  {
   "cell_type": "code",
   "execution_count": 6,
   "metadata": {},
   "outputs": [],
   "source": [
    "joined = reviews.join(business, lsuffix='_r', rsuffix='_b', how=\"inner\")"
   ]
  },
  {
   "cell_type": "code",
   "execution_count": 7,
   "metadata": {},
   "outputs": [
    {
     "name": "stdout",
     "output_type": "stream",
     "text": [
      "(192609, 23)\n"
     ]
    },
    {
     "data": {
      "text/html": [
       "<div>\n",
       "<style scoped>\n",
       "    .dataframe tbody tr th:only-of-type {\n",
       "        vertical-align: middle;\n",
       "    }\n",
       "\n",
       "    .dataframe tbody tr th {\n",
       "        vertical-align: top;\n",
       "    }\n",
       "\n",
       "    .dataframe thead th {\n",
       "        text-align: right;\n",
       "    }\n",
       "</style>\n",
       "<table border=\"1\" class=\"dataframe\">\n",
       "  <thead>\n",
       "    <tr style=\"text-align: right;\">\n",
       "      <th></th>\n",
       "      <th>business_id_r</th>\n",
       "      <th>cool</th>\n",
       "      <th>date</th>\n",
       "      <th>funny</th>\n",
       "      <th>review_id</th>\n",
       "      <th>stars_r</th>\n",
       "      <th>text</th>\n",
       "      <th>useful</th>\n",
       "      <th>user_id</th>\n",
       "      <th>address</th>\n",
       "      <th>...</th>\n",
       "      <th>city</th>\n",
       "      <th>hours</th>\n",
       "      <th>is_open</th>\n",
       "      <th>latitude</th>\n",
       "      <th>longitude</th>\n",
       "      <th>name</th>\n",
       "      <th>postal_code</th>\n",
       "      <th>review_count</th>\n",
       "      <th>stars_b</th>\n",
       "      <th>state</th>\n",
       "    </tr>\n",
       "  </thead>\n",
       "  <tbody>\n",
       "    <tr>\n",
       "      <th>0</th>\n",
       "      <td>ujmEBvifdJM6h6RLv4wQIg</td>\n",
       "      <td>0</td>\n",
       "      <td>2013-05-07 04:34:36</td>\n",
       "      <td>1</td>\n",
       "      <td>Q1sbwvVQXV2734tPgoKj4Q</td>\n",
       "      <td>1</td>\n",
       "      <td>Total bill for this horrible service? Over $8G...</td>\n",
       "      <td>6</td>\n",
       "      <td>hG7b0MtEbXx5QzbzE6C_VA</td>\n",
       "      <td>2818 E Camino Acequia Drive</td>\n",
       "      <td>...</td>\n",
       "      <td>Phoenix</td>\n",
       "      <td>None</td>\n",
       "      <td>0</td>\n",
       "      <td>33.522143</td>\n",
       "      <td>-112.018481</td>\n",
       "      <td>Arizona Biltmore Golf Club</td>\n",
       "      <td>85016</td>\n",
       "      <td>5</td>\n",
       "      <td>3.0</td>\n",
       "      <td>AZ</td>\n",
       "    </tr>\n",
       "    <tr>\n",
       "      <th>1</th>\n",
       "      <td>NZnhc2sEQy3RmzKTZnqtwQ</td>\n",
       "      <td>0</td>\n",
       "      <td>2017-01-14 21:30:33</td>\n",
       "      <td>0</td>\n",
       "      <td>GJXCdrto3ASJOqKeVWPi6Q</td>\n",
       "      <td>5</td>\n",
       "      <td>I *adore* Travis at the Hard Rock's new Kelly ...</td>\n",
       "      <td>0</td>\n",
       "      <td>yXQM5uF2jS6es16SJzNHfg</td>\n",
       "      <td>30 Eglinton Avenue W</td>\n",
       "      <td>...</td>\n",
       "      <td>Mississauga</td>\n",
       "      <td>{'Monday': '9:0-0:0', 'Tuesday': '9:0-0:0', 'W...</td>\n",
       "      <td>1</td>\n",
       "      <td>43.605499</td>\n",
       "      <td>-79.652289</td>\n",
       "      <td>Emerald Chinese Restaurant</td>\n",
       "      <td>L5R 3E7</td>\n",
       "      <td>128</td>\n",
       "      <td>2.5</td>\n",
       "      <td>ON</td>\n",
       "    </tr>\n",
       "    <tr>\n",
       "      <th>2</th>\n",
       "      <td>WTqjgwHlXbSFevF32_DJVw</td>\n",
       "      <td>0</td>\n",
       "      <td>2016-11-09 20:09:03</td>\n",
       "      <td>0</td>\n",
       "      <td>2TzJjDVDEuAW6MR5Vuc1ug</td>\n",
       "      <td>5</td>\n",
       "      <td>I have to say that this office really has it t...</td>\n",
       "      <td>3</td>\n",
       "      <td>n6-Gk65cPZL6Uz8qRm3NYw</td>\n",
       "      <td>10110 Johnston Rd, Ste 15</td>\n",
       "      <td>...</td>\n",
       "      <td>Charlotte</td>\n",
       "      <td>{'Monday': '17:30-21:30', 'Wednesday': '17:30-...</td>\n",
       "      <td>1</td>\n",
       "      <td>35.092564</td>\n",
       "      <td>-80.859132</td>\n",
       "      <td>Musashi Japanese Restaurant</td>\n",
       "      <td>28210</td>\n",
       "      <td>170</td>\n",
       "      <td>4.0</td>\n",
       "      <td>NC</td>\n",
       "    </tr>\n",
       "    <tr>\n",
       "      <th>3</th>\n",
       "      <td>ikCg8xy5JIg_NGPx-MSIDA</td>\n",
       "      <td>0</td>\n",
       "      <td>2018-01-09 20:56:38</td>\n",
       "      <td>0</td>\n",
       "      <td>yi0R0Ugj_xUx_Nek0-_Qig</td>\n",
       "      <td>5</td>\n",
       "      <td>Went in for a lunch. Steak sandwich was delici...</td>\n",
       "      <td>0</td>\n",
       "      <td>dacAIZ6fTM6mqwW5uxkskg</td>\n",
       "      <td>15655 W Roosevelt St, Ste 237</td>\n",
       "      <td>...</td>\n",
       "      <td>Goodyear</td>\n",
       "      <td>{'Monday': '8:0-17:0', 'Tuesday': '8:0-17:0', ...</td>\n",
       "      <td>1</td>\n",
       "      <td>33.455613</td>\n",
       "      <td>-112.395596</td>\n",
       "      <td>Farmers Insurance - Paul Lorenz</td>\n",
       "      <td>85338</td>\n",
       "      <td>3</td>\n",
       "      <td>5.0</td>\n",
       "      <td>AZ</td>\n",
       "    </tr>\n",
       "    <tr>\n",
       "      <th>4</th>\n",
       "      <td>b1b1eb3uo-w561D0ZfCEiQ</td>\n",
       "      <td>0</td>\n",
       "      <td>2018-01-30 23:07:38</td>\n",
       "      <td>0</td>\n",
       "      <td>11a8sVPMUFtaC7_ABRkmtw</td>\n",
       "      <td>1</td>\n",
       "      <td>Today was my second out of three sessions I ha...</td>\n",
       "      <td>7</td>\n",
       "      <td>ssoyf2_x0EQMed6fgHeMyQ</td>\n",
       "      <td>4209 Stuart Andrew Blvd, Ste F</td>\n",
       "      <td>...</td>\n",
       "      <td>Charlotte</td>\n",
       "      <td>{'Monday': '7:0-23:0', 'Tuesday': '7:0-23:0', ...</td>\n",
       "      <td>1</td>\n",
       "      <td>35.190012</td>\n",
       "      <td>-80.887223</td>\n",
       "      <td>Queen City Plumbing</td>\n",
       "      <td>28217</td>\n",
       "      <td>4</td>\n",
       "      <td>4.0</td>\n",
       "      <td>NC</td>\n",
       "    </tr>\n",
       "  </tbody>\n",
       "</table>\n",
       "<p>5 rows × 23 columns</p>\n",
       "</div>"
      ],
      "text/plain": [
       "            business_id_r  cool                date  funny  \\\n",
       "0  ujmEBvifdJM6h6RLv4wQIg     0 2013-05-07 04:34:36      1   \n",
       "1  NZnhc2sEQy3RmzKTZnqtwQ     0 2017-01-14 21:30:33      0   \n",
       "2  WTqjgwHlXbSFevF32_DJVw     0 2016-11-09 20:09:03      0   \n",
       "3  ikCg8xy5JIg_NGPx-MSIDA     0 2018-01-09 20:56:38      0   \n",
       "4  b1b1eb3uo-w561D0ZfCEiQ     0 2018-01-30 23:07:38      0   \n",
       "\n",
       "                review_id  stars_r  \\\n",
       "0  Q1sbwvVQXV2734tPgoKj4Q        1   \n",
       "1  GJXCdrto3ASJOqKeVWPi6Q        5   \n",
       "2  2TzJjDVDEuAW6MR5Vuc1ug        5   \n",
       "3  yi0R0Ugj_xUx_Nek0-_Qig        5   \n",
       "4  11a8sVPMUFtaC7_ABRkmtw        1   \n",
       "\n",
       "                                                text  useful  \\\n",
       "0  Total bill for this horrible service? Over $8G...       6   \n",
       "1  I *adore* Travis at the Hard Rock's new Kelly ...       0   \n",
       "2  I have to say that this office really has it t...       3   \n",
       "3  Went in for a lunch. Steak sandwich was delici...       0   \n",
       "4  Today was my second out of three sessions I ha...       7   \n",
       "\n",
       "                  user_id                         address  ...          city  \\\n",
       "0  hG7b0MtEbXx5QzbzE6C_VA     2818 E Camino Acequia Drive  ...       Phoenix   \n",
       "1  yXQM5uF2jS6es16SJzNHfg            30 Eglinton Avenue W  ...   Mississauga   \n",
       "2  n6-Gk65cPZL6Uz8qRm3NYw       10110 Johnston Rd, Ste 15  ...     Charlotte   \n",
       "3  dacAIZ6fTM6mqwW5uxkskg   15655 W Roosevelt St, Ste 237  ...      Goodyear   \n",
       "4  ssoyf2_x0EQMed6fgHeMyQ  4209 Stuart Andrew Blvd, Ste F  ...     Charlotte   \n",
       "\n",
       "                                               hours is_open   latitude  \\\n",
       "0                                               None       0  33.522143   \n",
       "1  {'Monday': '9:0-0:0', 'Tuesday': '9:0-0:0', 'W...       1  43.605499   \n",
       "2  {'Monday': '17:30-21:30', 'Wednesday': '17:30-...       1  35.092564   \n",
       "3  {'Monday': '8:0-17:0', 'Tuesday': '8:0-17:0', ...       1  33.455613   \n",
       "4  {'Monday': '7:0-23:0', 'Tuesday': '7:0-23:0', ...       1  35.190012   \n",
       "\n",
       "    longitude                             name  postal_code  review_count  \\\n",
       "0 -112.018481       Arizona Biltmore Golf Club        85016             5   \n",
       "1  -79.652289       Emerald Chinese Restaurant      L5R 3E7           128   \n",
       "2  -80.859132      Musashi Japanese Restaurant        28210           170   \n",
       "3 -112.395596  Farmers Insurance - Paul Lorenz        85338             3   \n",
       "4  -80.887223              Queen City Plumbing        28217             4   \n",
       "\n",
       "  stars_b state  \n",
       "0     3.0    AZ  \n",
       "1     2.5    ON  \n",
       "2     4.0    NC  \n",
       "3     5.0    AZ  \n",
       "4     4.0    NC  \n",
       "\n",
       "[5 rows x 23 columns]"
      ]
     },
     "execution_count": 7,
     "metadata": {},
     "output_type": "execute_result"
    }
   ],
   "source": [
    "print(joined.shape)\n",
    "joined.head()"
   ]
  },
  {
   "cell_type": "markdown",
   "metadata": {},
   "source": [
    "#### Filter restaurants"
   ]
  },
  {
   "cell_type": "code",
   "execution_count": 8,
   "metadata": {},
   "outputs": [
    {
     "name": "stdout",
     "output_type": "stream",
     "text": [
      "(59371, 23)\n"
     ]
    },
    {
     "data": {
      "text/html": [
       "<div>\n",
       "<style scoped>\n",
       "    .dataframe tbody tr th:only-of-type {\n",
       "        vertical-align: middle;\n",
       "    }\n",
       "\n",
       "    .dataframe tbody tr th {\n",
       "        vertical-align: top;\n",
       "    }\n",
       "\n",
       "    .dataframe thead th {\n",
       "        text-align: right;\n",
       "    }\n",
       "</style>\n",
       "<table border=\"1\" class=\"dataframe\">\n",
       "  <thead>\n",
       "    <tr style=\"text-align: right;\">\n",
       "      <th></th>\n",
       "      <th>business_id_r</th>\n",
       "      <th>cool</th>\n",
       "      <th>date</th>\n",
       "      <th>funny</th>\n",
       "      <th>review_id</th>\n",
       "      <th>stars_r</th>\n",
       "      <th>text</th>\n",
       "      <th>useful</th>\n",
       "      <th>user_id</th>\n",
       "      <th>address</th>\n",
       "      <th>...</th>\n",
       "      <th>city</th>\n",
       "      <th>hours</th>\n",
       "      <th>is_open</th>\n",
       "      <th>latitude</th>\n",
       "      <th>longitude</th>\n",
       "      <th>name</th>\n",
       "      <th>postal_code</th>\n",
       "      <th>review_count</th>\n",
       "      <th>stars_b</th>\n",
       "      <th>state</th>\n",
       "    </tr>\n",
       "  </thead>\n",
       "  <tbody>\n",
       "    <tr>\n",
       "      <th>1</th>\n",
       "      <td>NZnhc2sEQy3RmzKTZnqtwQ</td>\n",
       "      <td>0</td>\n",
       "      <td>2017-01-14 21:30:33</td>\n",
       "      <td>0</td>\n",
       "      <td>GJXCdrto3ASJOqKeVWPi6Q</td>\n",
       "      <td>5</td>\n",
       "      <td>I *adore* Travis at the Hard Rock's new Kelly ...</td>\n",
       "      <td>0</td>\n",
       "      <td>yXQM5uF2jS6es16SJzNHfg</td>\n",
       "      <td>30 Eglinton Avenue W</td>\n",
       "      <td>...</td>\n",
       "      <td>Mississauga</td>\n",
       "      <td>{'Monday': '9:0-0:0', 'Tuesday': '9:0-0:0', 'W...</td>\n",
       "      <td>1</td>\n",
       "      <td>43.605499</td>\n",
       "      <td>-79.652289</td>\n",
       "      <td>Emerald Chinese Restaurant</td>\n",
       "      <td>L5R 3E7</td>\n",
       "      <td>128</td>\n",
       "      <td>2.5</td>\n",
       "      <td>ON</td>\n",
       "    </tr>\n",
       "    <tr>\n",
       "      <th>2</th>\n",
       "      <td>WTqjgwHlXbSFevF32_DJVw</td>\n",
       "      <td>0</td>\n",
       "      <td>2016-11-09 20:09:03</td>\n",
       "      <td>0</td>\n",
       "      <td>2TzJjDVDEuAW6MR5Vuc1ug</td>\n",
       "      <td>5</td>\n",
       "      <td>I have to say that this office really has it t...</td>\n",
       "      <td>3</td>\n",
       "      <td>n6-Gk65cPZL6Uz8qRm3NYw</td>\n",
       "      <td>10110 Johnston Rd, Ste 15</td>\n",
       "      <td>...</td>\n",
       "      <td>Charlotte</td>\n",
       "      <td>{'Monday': '17:30-21:30', 'Wednesday': '17:30-...</td>\n",
       "      <td>1</td>\n",
       "      <td>35.092564</td>\n",
       "      <td>-80.859132</td>\n",
       "      <td>Musashi Japanese Restaurant</td>\n",
       "      <td>28210</td>\n",
       "      <td>170</td>\n",
       "      <td>4.0</td>\n",
       "      <td>NC</td>\n",
       "    </tr>\n",
       "    <tr>\n",
       "      <th>11</th>\n",
       "      <td>mRUVMJkUGxrByzMQ2MuOpA</td>\n",
       "      <td>0</td>\n",
       "      <td>2017-12-15 23:27:08</td>\n",
       "      <td>1</td>\n",
       "      <td>-I5umRTkhw15RqpKMl_o1Q</td>\n",
       "      <td>1</td>\n",
       "      <td>Walked in around 4 on a Friday afternoon, we s...</td>\n",
       "      <td>0</td>\n",
       "      <td>-mA3-1mN4JIEkqOtdbNXCQ</td>\n",
       "      <td>2450 E Indian School Rd</td>\n",
       "      <td>...</td>\n",
       "      <td>Phoenix</td>\n",
       "      <td>{'Monday': '7:0-0:0', 'Tuesday': '7:0-0:0', 'W...</td>\n",
       "      <td>1</td>\n",
       "      <td>33.495194</td>\n",
       "      <td>-112.028588</td>\n",
       "      <td>Taco Bell</td>\n",
       "      <td>85016</td>\n",
       "      <td>18</td>\n",
       "      <td>3.0</td>\n",
       "      <td>AZ</td>\n",
       "    </tr>\n",
       "    <tr>\n",
       "      <th>13</th>\n",
       "      <td>LUN6swQYa4xJKaM_UEUOEw</td>\n",
       "      <td>0</td>\n",
       "      <td>2018-04-27 20:25:26</td>\n",
       "      <td>0</td>\n",
       "      <td>qlXw1JQ0UodW7qrmVgwCXw</td>\n",
       "      <td>4</td>\n",
       "      <td>Michael from Red Carpet VIP is amazing ! I rea...</td>\n",
       "      <td>0</td>\n",
       "      <td>bAhqAPoWaZYcyYi7bs024Q</td>\n",
       "      <td>5981 Andrews Rd</td>\n",
       "      <td>...</td>\n",
       "      <td>Mentor-on-the-Lake</td>\n",
       "      <td>{'Monday': '10:0-0:0', 'Tuesday': '10:0-0:0', ...</td>\n",
       "      <td>1</td>\n",
       "      <td>41.708520</td>\n",
       "      <td>-81.359556</td>\n",
       "      <td>Marco's Pizza</td>\n",
       "      <td>44060</td>\n",
       "      <td>16</td>\n",
       "      <td>4.0</td>\n",
       "      <td>OH</td>\n",
       "    </tr>\n",
       "    <tr>\n",
       "      <th>17</th>\n",
       "      <td>cHdJXLlKNWixBXpDwEGb_A</td>\n",
       "      <td>1</td>\n",
       "      <td>2015-04-01 16:30:00</td>\n",
       "      <td>7</td>\n",
       "      <td>6BnQwlxRn7ZuWdzninM9sQ</td>\n",
       "      <td>3</td>\n",
       "      <td>I love chinese food and I love mexican food. W...</td>\n",
       "      <td>1</td>\n",
       "      <td>JSrP-dUmLlwZiI7Dp3PQ2A</td>\n",
       "      <td>1775 E Tropicana Ave, Ste 29</td>\n",
       "      <td>...</td>\n",
       "      <td>Las Vegas</td>\n",
       "      <td>None</td>\n",
       "      <td>0</td>\n",
       "      <td>36.100016</td>\n",
       "      <td>-115.128529</td>\n",
       "      <td>Carluccio's Tivoli Gardens</td>\n",
       "      <td>89119</td>\n",
       "      <td>40</td>\n",
       "      <td>4.0</td>\n",
       "      <td>NV</td>\n",
       "    </tr>\n",
       "  </tbody>\n",
       "</table>\n",
       "<p>5 rows × 23 columns</p>\n",
       "</div>"
      ],
      "text/plain": [
       "             business_id_r  cool                date  funny  \\\n",
       "1   NZnhc2sEQy3RmzKTZnqtwQ     0 2017-01-14 21:30:33      0   \n",
       "2   WTqjgwHlXbSFevF32_DJVw     0 2016-11-09 20:09:03      0   \n",
       "11  mRUVMJkUGxrByzMQ2MuOpA     0 2017-12-15 23:27:08      1   \n",
       "13  LUN6swQYa4xJKaM_UEUOEw     0 2018-04-27 20:25:26      0   \n",
       "17  cHdJXLlKNWixBXpDwEGb_A     1 2015-04-01 16:30:00      7   \n",
       "\n",
       "                 review_id  stars_r  \\\n",
       "1   GJXCdrto3ASJOqKeVWPi6Q        5   \n",
       "2   2TzJjDVDEuAW6MR5Vuc1ug        5   \n",
       "11  -I5umRTkhw15RqpKMl_o1Q        1   \n",
       "13  qlXw1JQ0UodW7qrmVgwCXw        4   \n",
       "17  6BnQwlxRn7ZuWdzninM9sQ        3   \n",
       "\n",
       "                                                 text  useful  \\\n",
       "1   I *adore* Travis at the Hard Rock's new Kelly ...       0   \n",
       "2   I have to say that this office really has it t...       3   \n",
       "11  Walked in around 4 on a Friday afternoon, we s...       0   \n",
       "13  Michael from Red Carpet VIP is amazing ! I rea...       0   \n",
       "17  I love chinese food and I love mexican food. W...       1   \n",
       "\n",
       "                   user_id                       address  ...   \\\n",
       "1   yXQM5uF2jS6es16SJzNHfg          30 Eglinton Avenue W  ...    \n",
       "2   n6-Gk65cPZL6Uz8qRm3NYw     10110 Johnston Rd, Ste 15  ...    \n",
       "11  -mA3-1mN4JIEkqOtdbNXCQ       2450 E Indian School Rd  ...    \n",
       "13  bAhqAPoWaZYcyYi7bs024Q               5981 Andrews Rd  ...    \n",
       "17  JSrP-dUmLlwZiI7Dp3PQ2A  1775 E Tropicana Ave, Ste 29  ...    \n",
       "\n",
       "                  city                                              hours  \\\n",
       "1          Mississauga  {'Monday': '9:0-0:0', 'Tuesday': '9:0-0:0', 'W...   \n",
       "2            Charlotte  {'Monday': '17:30-21:30', 'Wednesday': '17:30-...   \n",
       "11             Phoenix  {'Monday': '7:0-0:0', 'Tuesday': '7:0-0:0', 'W...   \n",
       "13  Mentor-on-the-Lake  {'Monday': '10:0-0:0', 'Tuesday': '10:0-0:0', ...   \n",
       "17           Las Vegas                                               None   \n",
       "\n",
       "   is_open   latitude   longitude                         name  postal_code  \\\n",
       "1        1  43.605499  -79.652289   Emerald Chinese Restaurant      L5R 3E7   \n",
       "2        1  35.092564  -80.859132  Musashi Japanese Restaurant        28210   \n",
       "11       1  33.495194 -112.028588                    Taco Bell        85016   \n",
       "13       1  41.708520  -81.359556                Marco's Pizza        44060   \n",
       "17       0  36.100016 -115.128529   Carluccio's Tivoli Gardens        89119   \n",
       "\n",
       "    review_count stars_b state  \n",
       "1            128     2.5    ON  \n",
       "2            170     4.0    NC  \n",
       "11            18     3.0    AZ  \n",
       "13            16     4.0    OH  \n",
       "17            40     4.0    NV  \n",
       "\n",
       "[5 rows x 23 columns]"
      ]
     },
     "execution_count": 8,
     "metadata": {},
     "output_type": "execute_result"
    }
   ],
   "source": [
    "temp = joined['categories'].str.contains('Restaurants', regex=False)\n",
    "temp = temp.fillna(False)\n",
    "joined = joined[temp]\n",
    "print(joined.shape)\n",
    "joined.head()"
   ]
  },
  {
   "cell_type": "markdown",
   "metadata": {},
   "source": [
    "### Train/test split"
   ]
  },
  {
   "cell_type": "code",
   "execution_count": 9,
   "metadata": {},
   "outputs": [
    {
     "data": {
      "text/html": [
       "<div>\n",
       "<style scoped>\n",
       "    .dataframe tbody tr th:only-of-type {\n",
       "        vertical-align: middle;\n",
       "    }\n",
       "\n",
       "    .dataframe tbody tr th {\n",
       "        vertical-align: top;\n",
       "    }\n",
       "\n",
       "    .dataframe thead th {\n",
       "        text-align: right;\n",
       "    }\n",
       "</style>\n",
       "<table border=\"1\" class=\"dataframe\">\n",
       "  <thead>\n",
       "    <tr style=\"text-align: right;\">\n",
       "      <th></th>\n",
       "      <th>text</th>\n",
       "      <th>city</th>\n",
       "      <th>categories</th>\n",
       "    </tr>\n",
       "  </thead>\n",
       "  <tbody>\n",
       "    <tr>\n",
       "      <th>45640</th>\n",
       "      <td>Delicious original and unique. Great atmospher...</td>\n",
       "      <td>Tempe</td>\n",
       "      <td>Restaurants, Food, Cafeteria</td>\n",
       "    </tr>\n",
       "    <tr>\n",
       "      <th>9017</th>\n",
       "      <td>Like many Yelpers, I was eager to try this new...</td>\n",
       "      <td>Tempe</td>\n",
       "      <td>Steakhouses, Restaurants</td>\n",
       "    </tr>\n",
       "    <tr>\n",
       "      <th>48483</th>\n",
       "      <td>Saturday was a ladies night out. So as I meet ...</td>\n",
       "      <td>North York</td>\n",
       "      <td>Sushi Bars, Restaurants, Japanese</td>\n",
       "    </tr>\n",
       "    <tr>\n",
       "      <th>102691</th>\n",
       "      <td>This place is great!! Good food, neat atmosphe...</td>\n",
       "      <td>Montréal</td>\n",
       "      <td>Vegetarian, Mediterranean, Restaurants, Falafel</td>\n",
       "    </tr>\n",
       "    <tr>\n",
       "      <th>8680</th>\n",
       "      <td>Sunday dinner was okay, not bad but not good. ...</td>\n",
       "      <td>Brampton</td>\n",
       "      <td>Caterers, Nightlife, Caribbean, Restaurants, E...</td>\n",
       "    </tr>\n",
       "  </tbody>\n",
       "</table>\n",
       "</div>"
      ],
      "text/plain": [
       "                                                     text        city  \\\n",
       "45640   Delicious original and unique. Great atmospher...       Tempe   \n",
       "9017    Like many Yelpers, I was eager to try this new...       Tempe   \n",
       "48483   Saturday was a ladies night out. So as I meet ...  North York   \n",
       "102691  This place is great!! Good food, neat atmosphe...    Montréal   \n",
       "8680    Sunday dinner was okay, not bad but not good. ...    Brampton   \n",
       "\n",
       "                                               categories  \n",
       "45640                        Restaurants, Food, Cafeteria  \n",
       "9017                             Steakhouses, Restaurants  \n",
       "48483                   Sushi Bars, Restaurants, Japanese  \n",
       "102691    Vegetarian, Mediterranean, Restaurants, Falafel  \n",
       "8680    Caterers, Nightlife, Caribbean, Restaurants, E...  "
      ]
     },
     "execution_count": 9,
     "metadata": {},
     "output_type": "execute_result"
    }
   ],
   "source": [
    "temp = joined[['text', 'city', 'categories']]\n",
    "X_train, X_test, y_train, y_test = train_test_split(temp, joined['stars_r'], test_size=0.2, random_state=42)\n",
    "X_train.head()"
   ]
  },
  {
   "cell_type": "markdown",
   "metadata": {},
   "source": [
    "### TF-IDF"
   ]
  },
  {
   "cell_type": "code",
   "execution_count": 10,
   "metadata": {},
   "outputs": [
    {
     "data": {
      "text/plain": [
       "<47496x982 sparse matrix of type '<class 'numpy.float64'>'\n",
       "\twith 2530959 stored elements in Compressed Sparse Row format>"
      ]
     },
     "execution_count": 10,
     "metadata": {},
     "output_type": "execute_result"
    }
   ],
   "source": [
    "corpus = X_train['text']\n",
    "vectorizer = TfidfVectorizer(min_df = 0.01)\n",
    "\n",
    "vectorizer.fit(corpus)\n",
    "\n",
    "tf_train = vectorizer.transform(corpus)\n",
    "tf_train"
   ]
  },
  {
   "cell_type": "code",
   "execution_count": 11,
   "metadata": {},
   "outputs": [
    {
     "data": {
      "text/plain": [
       "<11875x982 sparse matrix of type '<class 'numpy.float64'>'\n",
       "\twith 636571 stored elements in Compressed Sparse Row format>"
      ]
     },
     "execution_count": 11,
     "metadata": {},
     "output_type": "execute_result"
    }
   ],
   "source": [
    "#test data\n",
    "test_corpus = X_test['text']\n",
    "tf_test = vectorizer.transform(test_corpus)\n",
    "tf_test"
   ]
  },
  {
   "cell_type": "markdown",
   "metadata": {},
   "source": [
    "### One-hot encoding"
   ]
  },
  {
   "cell_type": "code",
   "execution_count": 12,
   "metadata": {},
   "outputs": [
    {
     "data": {
      "text/html": [
       "<div>\n",
       "<style scoped>\n",
       "    .dataframe tbody tr th:only-of-type {\n",
       "        vertical-align: middle;\n",
       "    }\n",
       "\n",
       "    .dataframe tbody tr th {\n",
       "        vertical-align: top;\n",
       "    }\n",
       "\n",
       "    .dataframe thead th {\n",
       "        text-align: right;\n",
       "    }\n",
       "</style>\n",
       "<table border=\"1\" class=\"dataframe\">\n",
       "  <thead>\n",
       "    <tr style=\"text-align: right;\">\n",
       "      <th></th>\n",
       "      <th>text</th>\n",
       "      <th>city</th>\n",
       "      <th>categories</th>\n",
       "    </tr>\n",
       "  </thead>\n",
       "  <tbody>\n",
       "    <tr>\n",
       "      <th>45640</th>\n",
       "      <td>Delicious original and unique. Great atmospher...</td>\n",
       "      <td>Tempe</td>\n",
       "      <td>Restaurants, Food, Cafeteria</td>\n",
       "    </tr>\n",
       "    <tr>\n",
       "      <th>9017</th>\n",
       "      <td>Like many Yelpers, I was eager to try this new...</td>\n",
       "      <td>Tempe</td>\n",
       "      <td>Steakhouses, Restaurants</td>\n",
       "    </tr>\n",
       "    <tr>\n",
       "      <th>48483</th>\n",
       "      <td>Saturday was a ladies night out. So as I meet ...</td>\n",
       "      <td>North York</td>\n",
       "      <td>Sushi Bars, Restaurants, Japanese</td>\n",
       "    </tr>\n",
       "    <tr>\n",
       "      <th>102691</th>\n",
       "      <td>This place is great!! Good food, neat atmosphe...</td>\n",
       "      <td>Montréal</td>\n",
       "      <td>Vegetarian, Mediterranean, Restaurants, Falafel</td>\n",
       "    </tr>\n",
       "    <tr>\n",
       "      <th>8680</th>\n",
       "      <td>Sunday dinner was okay, not bad but not good. ...</td>\n",
       "      <td>Brampton</td>\n",
       "      <td>Caterers, Nightlife, Caribbean, Restaurants, E...</td>\n",
       "    </tr>\n",
       "  </tbody>\n",
       "</table>\n",
       "</div>"
      ],
      "text/plain": [
       "                                                     text        city  \\\n",
       "45640   Delicious original and unique. Great atmospher...       Tempe   \n",
       "9017    Like many Yelpers, I was eager to try this new...       Tempe   \n",
       "48483   Saturday was a ladies night out. So as I meet ...  North York   \n",
       "102691  This place is great!! Good food, neat atmosphe...    Montréal   \n",
       "8680    Sunday dinner was okay, not bad but not good. ...    Brampton   \n",
       "\n",
       "                                               categories  \n",
       "45640                        Restaurants, Food, Cafeteria  \n",
       "9017                             Steakhouses, Restaurants  \n",
       "48483                   Sushi Bars, Restaurants, Japanese  \n",
       "102691    Vegetarian, Mediterranean, Restaurants, Falafel  \n",
       "8680    Caterers, Nightlife, Caribbean, Restaurants, E...  "
      ]
     },
     "execution_count": 12,
     "metadata": {},
     "output_type": "execute_result"
    }
   ],
   "source": [
    "X_train.head()"
   ]
  },
  {
   "cell_type": "code",
   "execution_count": 13,
   "metadata": {},
   "outputs": [],
   "source": [
    "#common_cats = ['Nightlife', 'Pizza', 'Burger', 'Chinese', 'Steak', 'Sandwiches', 'Fast Food']\n",
    "common_cats = ['Pizza', 'Mexican', 'Chinese', 'Italian', 'Vietnamese']"
   ]
  },
  {
   "cell_type": "code",
   "execution_count": 14,
   "metadata": {},
   "outputs": [
    {
     "name": "stderr",
     "output_type": "stream",
     "text": [
      "/anaconda3/lib/python3.6/site-packages/ipykernel_launcher.py:2: SettingWithCopyWarning: \n",
      "A value is trying to be set on a copy of a slice from a DataFrame.\n",
      "Try using .loc[row_indexer,col_indexer] = value instead\n",
      "\n",
      "See the caveats in the documentation: http://pandas.pydata.org/pandas-docs/stable/indexing.html#indexing-view-versus-copy\n",
      "  \n",
      "/anaconda3/lib/python3.6/site-packages/ipykernel_launcher.py:3: SettingWithCopyWarning: \n",
      "A value is trying to be set on a copy of a slice from a DataFrame.\n",
      "Try using .loc[row_indexer,col_indexer] = value instead\n",
      "\n",
      "See the caveats in the documentation: http://pandas.pydata.org/pandas-docs/stable/indexing.html#indexing-view-versus-copy\n",
      "  This is separate from the ipykernel package so we can avoid doing imports until\n"
     ]
    },
    {
     "data": {
      "text/html": [
       "<div>\n",
       "<style scoped>\n",
       "    .dataframe tbody tr th:only-of-type {\n",
       "        vertical-align: middle;\n",
       "    }\n",
       "\n",
       "    .dataframe tbody tr th {\n",
       "        vertical-align: top;\n",
       "    }\n",
       "\n",
       "    .dataframe thead th {\n",
       "        text-align: right;\n",
       "    }\n",
       "</style>\n",
       "<table border=\"1\" class=\"dataframe\">\n",
       "  <thead>\n",
       "    <tr style=\"text-align: right;\">\n",
       "      <th></th>\n",
       "      <th>text</th>\n",
       "      <th>city</th>\n",
       "      <th>categories</th>\n",
       "      <th>Pizza</th>\n",
       "      <th>Mexican</th>\n",
       "      <th>Chinese</th>\n",
       "      <th>Italian</th>\n",
       "      <th>Vietnamese</th>\n",
       "    </tr>\n",
       "  </thead>\n",
       "  <tbody>\n",
       "    <tr>\n",
       "      <th>45640</th>\n",
       "      <td>Delicious original and unique. Great atmospher...</td>\n",
       "      <td>Tempe</td>\n",
       "      <td>Restaurants, Food, Cafeteria</td>\n",
       "      <td>0</td>\n",
       "      <td>0</td>\n",
       "      <td>0</td>\n",
       "      <td>0</td>\n",
       "      <td>0</td>\n",
       "    </tr>\n",
       "    <tr>\n",
       "      <th>9017</th>\n",
       "      <td>Like many Yelpers, I was eager to try this new...</td>\n",
       "      <td>Tempe</td>\n",
       "      <td>Steakhouses, Restaurants</td>\n",
       "      <td>0</td>\n",
       "      <td>0</td>\n",
       "      <td>0</td>\n",
       "      <td>0</td>\n",
       "      <td>0</td>\n",
       "    </tr>\n",
       "    <tr>\n",
       "      <th>48483</th>\n",
       "      <td>Saturday was a ladies night out. So as I meet ...</td>\n",
       "      <td>North York</td>\n",
       "      <td>Sushi Bars, Restaurants, Japanese</td>\n",
       "      <td>0</td>\n",
       "      <td>0</td>\n",
       "      <td>0</td>\n",
       "      <td>0</td>\n",
       "      <td>0</td>\n",
       "    </tr>\n",
       "    <tr>\n",
       "      <th>102691</th>\n",
       "      <td>This place is great!! Good food, neat atmosphe...</td>\n",
       "      <td>Montréal</td>\n",
       "      <td>Vegetarian, Mediterranean, Restaurants, Falafel</td>\n",
       "      <td>0</td>\n",
       "      <td>0</td>\n",
       "      <td>0</td>\n",
       "      <td>0</td>\n",
       "      <td>0</td>\n",
       "    </tr>\n",
       "    <tr>\n",
       "      <th>8680</th>\n",
       "      <td>Sunday dinner was okay, not bad but not good. ...</td>\n",
       "      <td>Brampton</td>\n",
       "      <td>Caterers, Nightlife, Caribbean, Restaurants, E...</td>\n",
       "      <td>0</td>\n",
       "      <td>0</td>\n",
       "      <td>0</td>\n",
       "      <td>0</td>\n",
       "      <td>0</td>\n",
       "    </tr>\n",
       "  </tbody>\n",
       "</table>\n",
       "</div>"
      ],
      "text/plain": [
       "                                                     text        city  \\\n",
       "45640   Delicious original and unique. Great atmospher...       Tempe   \n",
       "9017    Like many Yelpers, I was eager to try this new...       Tempe   \n",
       "48483   Saturday was a ladies night out. So as I meet ...  North York   \n",
       "102691  This place is great!! Good food, neat atmosphe...    Montréal   \n",
       "8680    Sunday dinner was okay, not bad but not good. ...    Brampton   \n",
       "\n",
       "                                               categories  Pizza  Mexican  \\\n",
       "45640                        Restaurants, Food, Cafeteria      0        0   \n",
       "9017                             Steakhouses, Restaurants      0        0   \n",
       "48483                   Sushi Bars, Restaurants, Japanese      0        0   \n",
       "102691    Vegetarian, Mediterranean, Restaurants, Falafel      0        0   \n",
       "8680    Caterers, Nightlife, Caribbean, Restaurants, E...      0        0   \n",
       "\n",
       "        Chinese  Italian  Vietnamese  \n",
       "45640         0        0           0  \n",
       "9017          0        0           0  \n",
       "48483         0        0           0  \n",
       "102691        0        0           0  \n",
       "8680          0        0           0  "
      ]
     },
     "execution_count": 14,
     "metadata": {},
     "output_type": "execute_result"
    }
   ],
   "source": [
    "for cat in common_cats:\n",
    "    X_train[cat] = 0\n",
    "    X_test[cat] = 0\n",
    "X_train.head()"
   ]
  },
  {
   "cell_type": "code",
   "execution_count": 15,
   "metadata": {},
   "outputs": [
    {
     "name": "stderr",
     "output_type": "stream",
     "text": [
      "/anaconda3/lib/python3.6/site-packages/pandas/core/indexing.py:537: SettingWithCopyWarning: \n",
      "A value is trying to be set on a copy of a slice from a DataFrame.\n",
      "Try using .loc[row_indexer,col_indexer] = value instead\n",
      "\n",
      "See the caveats in the documentation: http://pandas.pydata.org/pandas-docs/stable/indexing.html#indexing-view-versus-copy\n",
      "  self.obj[item] = s\n"
     ]
    },
    {
     "data": {
      "text/html": [
       "<div>\n",
       "<style scoped>\n",
       "    .dataframe tbody tr th:only-of-type {\n",
       "        vertical-align: middle;\n",
       "    }\n",
       "\n",
       "    .dataframe tbody tr th {\n",
       "        vertical-align: top;\n",
       "    }\n",
       "\n",
       "    .dataframe thead th {\n",
       "        text-align: right;\n",
       "    }\n",
       "</style>\n",
       "<table border=\"1\" class=\"dataframe\">\n",
       "  <thead>\n",
       "    <tr style=\"text-align: right;\">\n",
       "      <th></th>\n",
       "      <th>text</th>\n",
       "      <th>city</th>\n",
       "      <th>categories</th>\n",
       "      <th>Pizza</th>\n",
       "      <th>Mexican</th>\n",
       "      <th>Chinese</th>\n",
       "      <th>Italian</th>\n",
       "      <th>Vietnamese</th>\n",
       "    </tr>\n",
       "  </thead>\n",
       "  <tbody>\n",
       "    <tr>\n",
       "      <th>45640</th>\n",
       "      <td>Delicious original and unique. Great atmospher...</td>\n",
       "      <td>Tempe</td>\n",
       "      <td>Restaurants, Food, Cafeteria</td>\n",
       "      <td>0</td>\n",
       "      <td>0</td>\n",
       "      <td>0</td>\n",
       "      <td>0</td>\n",
       "      <td>0</td>\n",
       "    </tr>\n",
       "    <tr>\n",
       "      <th>9017</th>\n",
       "      <td>Like many Yelpers, I was eager to try this new...</td>\n",
       "      <td>Tempe</td>\n",
       "      <td>Steakhouses, Restaurants</td>\n",
       "      <td>0</td>\n",
       "      <td>0</td>\n",
       "      <td>0</td>\n",
       "      <td>0</td>\n",
       "      <td>0</td>\n",
       "    </tr>\n",
       "    <tr>\n",
       "      <th>48483</th>\n",
       "      <td>Saturday was a ladies night out. So as I meet ...</td>\n",
       "      <td>North York</td>\n",
       "      <td>Sushi Bars, Restaurants, Japanese</td>\n",
       "      <td>0</td>\n",
       "      <td>0</td>\n",
       "      <td>0</td>\n",
       "      <td>0</td>\n",
       "      <td>0</td>\n",
       "    </tr>\n",
       "    <tr>\n",
       "      <th>102691</th>\n",
       "      <td>This place is great!! Good food, neat atmosphe...</td>\n",
       "      <td>Montréal</td>\n",
       "      <td>Vegetarian, Mediterranean, Restaurants, Falafel</td>\n",
       "      <td>0</td>\n",
       "      <td>0</td>\n",
       "      <td>0</td>\n",
       "      <td>0</td>\n",
       "      <td>0</td>\n",
       "    </tr>\n",
       "    <tr>\n",
       "      <th>8680</th>\n",
       "      <td>Sunday dinner was okay, not bad but not good. ...</td>\n",
       "      <td>Brampton</td>\n",
       "      <td>Caterers, Nightlife, Caribbean, Restaurants, E...</td>\n",
       "      <td>0</td>\n",
       "      <td>0</td>\n",
       "      <td>0</td>\n",
       "      <td>0</td>\n",
       "      <td>0</td>\n",
       "    </tr>\n",
       "  </tbody>\n",
       "</table>\n",
       "</div>"
      ],
      "text/plain": [
       "                                                     text        city  \\\n",
       "45640   Delicious original and unique. Great atmospher...       Tempe   \n",
       "9017    Like many Yelpers, I was eager to try this new...       Tempe   \n",
       "48483   Saturday was a ladies night out. So as I meet ...  North York   \n",
       "102691  This place is great!! Good food, neat atmosphe...    Montréal   \n",
       "8680    Sunday dinner was okay, not bad but not good. ...    Brampton   \n",
       "\n",
       "                                               categories  Pizza  Mexican  \\\n",
       "45640                        Restaurants, Food, Cafeteria      0        0   \n",
       "9017                             Steakhouses, Restaurants      0        0   \n",
       "48483                   Sushi Bars, Restaurants, Japanese      0        0   \n",
       "102691    Vegetarian, Mediterranean, Restaurants, Falafel      0        0   \n",
       "8680    Caterers, Nightlife, Caribbean, Restaurants, E...      0        0   \n",
       "\n",
       "        Chinese  Italian  Vietnamese  \n",
       "45640         0        0           0  \n",
       "9017          0        0           0  \n",
       "48483         0        0           0  \n",
       "102691        0        0           0  \n",
       "8680          0        0           0  "
      ]
     },
     "execution_count": 15,
     "metadata": {},
     "output_type": "execute_result"
    }
   ],
   "source": [
    "#https://stackoverflow.com/questions/36909977/update-row-values-where-certain-condition-is-met-in-pandas\n",
    "for cat in common_cats:\n",
    "    X_train.loc[X_train['categories'].str.contains(cat, regex=False), [cat]] = 1\n",
    "    X_test.loc[X_test['categories'].str.contains(cat, regex=False), [cat]] = 1\n",
    "X_train.head()"
   ]
  },
  {
   "cell_type": "code",
   "execution_count": 16,
   "metadata": {},
   "outputs": [
    {
     "name": "stderr",
     "output_type": "stream",
     "text": [
      "/anaconda3/lib/python3.6/site-packages/ipykernel_launcher.py:1: SettingWithCopyWarning: \n",
      "A value is trying to be set on a copy of a slice from a DataFrame.\n",
      "Try using .loc[row_indexer,col_indexer] = value instead\n",
      "\n",
      "See the caveats in the documentation: http://pandas.pydata.org/pandas-docs/stable/indexing.html#indexing-view-versus-copy\n",
      "  \"\"\"Entry point for launching an IPython kernel.\n",
      "/anaconda3/lib/python3.6/site-packages/ipykernel_launcher.py:2: SettingWithCopyWarning: \n",
      "A value is trying to be set on a copy of a slice from a DataFrame.\n",
      "Try using .loc[row_indexer,col_indexer] = value instead\n",
      "\n",
      "See the caveats in the documentation: http://pandas.pydata.org/pandas-docs/stable/indexing.html#indexing-view-versus-copy\n",
      "  \n"
     ]
    }
   ],
   "source": [
    "X_train['city'] = X_train['city'].str.lower()\n",
    "X_test['city'] = X_test['city'].str.lower()\n",
    "\n",
    "#X_train['state'] = X_train['state'].str.lower()\n",
    "#X_test['state'] = X_test['state'].str.lower()"
   ]
  },
  {
   "cell_type": "code",
   "execution_count": 17,
   "metadata": {},
   "outputs": [
    {
     "name": "stderr",
     "output_type": "stream",
     "text": [
      "/anaconda3/lib/python3.6/site-packages/ipykernel_launcher.py:2: FutureWarning: reshape is deprecated and will raise in a subsequent release. Please use .values.reshape(...) instead\n",
      "  \n"
     ]
    },
    {
     "data": {
      "text/plain": [
       "OneHotEncoder(categorical_features=None, categories=None,\n",
       "       dtype=<class 'numpy.float64'>, handle_unknown='ignore',\n",
       "       n_values=None, sparse=True)"
      ]
     },
     "execution_count": 17,
     "metadata": {},
     "output_type": "execute_result"
    }
   ],
   "source": [
    "enc = OneHotEncoder(handle_unknown='ignore')\n",
    "enc.fit(X_train['city'].reshape(-1,1))"
   ]
  },
  {
   "cell_type": "code",
   "execution_count": 18,
   "metadata": {},
   "outputs": [
    {
     "name": "stderr",
     "output_type": "stream",
     "text": [
      "/anaconda3/lib/python3.6/site-packages/ipykernel_launcher.py:1: FutureWarning: reshape is deprecated and will raise in a subsequent release. Please use .values.reshape(...) instead\n",
      "  \"\"\"Entry point for launching an IPython kernel.\n",
      "/anaconda3/lib/python3.6/site-packages/ipykernel_launcher.py:2: FutureWarning: reshape is deprecated and will raise in a subsequent release. Please use .values.reshape(...) instead\n",
      "  \n"
     ]
    },
    {
     "data": {
      "text/plain": [
       "<47496x684 sparse matrix of type '<class 'numpy.float64'>'\n",
       "\twith 47496 stored elements in Compressed Sparse Row format>"
      ]
     },
     "execution_count": 18,
     "metadata": {},
     "output_type": "execute_result"
    }
   ],
   "source": [
    "X_trainC = enc.transform(X_train['city'].reshape(-1,1))\n",
    "X_testC = enc.transform(X_test['city'].reshape(-1,1))\n",
    "X_trainC"
   ]
  },
  {
   "cell_type": "code",
   "execution_count": 19,
   "metadata": {},
   "outputs": [],
   "source": [
    "cities = []\n",
    "for t in enc.categories_:\n",
    "    for c in t:\n",
    "        cities.append(c)"
   ]
  },
  {
   "cell_type": "code",
   "execution_count": 20,
   "metadata": {},
   "outputs": [
    {
     "data": {
      "text/plain": [
       "array([[0, 0, 0, 0, 0],\n",
       "       [0, 0, 0, 0, 0],\n",
       "       [0, 0, 0, 0, 0],\n",
       "       ...,\n",
       "       [0, 0, 0, 0, 0],\n",
       "       [0, 0, 0, 0, 0],\n",
       "       [0, 0, 0, 1, 0]])"
      ]
     },
     "execution_count": 20,
     "metadata": {},
     "output_type": "execute_result"
    }
   ],
   "source": [
    "X_train[common_cats].values"
   ]
  },
  {
   "cell_type": "code",
   "execution_count": 21,
   "metadata": {},
   "outputs": [
    {
     "data": {
      "text/plain": [
       "<47496x5 sparse matrix of type '<class 'numpy.int64'>'\n",
       "\twith 17419 stored elements in Compressed Sparse Row format>"
      ]
     },
     "execution_count": 21,
     "metadata": {},
     "output_type": "execute_result"
    }
   ],
   "source": [
    "X_train_cats = csr_matrix(X_train[common_cats].values) \n",
    "X_test_cats = csr_matrix(X_test[common_cats].values)\n",
    "X_train_cats"
   ]
  },
  {
   "cell_type": "markdown",
   "metadata": {},
   "source": [
    "### Join results"
   ]
  },
  {
   "cell_type": "code",
   "execution_count": 22,
   "metadata": {},
   "outputs": [],
   "source": [
    "X_trainJ = hstack([tf_train, X_trainC, X_train_cats], format=\"csr\")\n",
    "X_testJ = hstack([tf_test, X_testC, X_test_cats], format=\"csr\")"
   ]
  },
  {
   "cell_type": "markdown",
   "metadata": {},
   "source": [
    "### Grid Search"
   ]
  },
  {
   "cell_type": "markdown",
   "metadata": {},
   "source": [
    "#### Ridge"
   ]
  },
  {
   "cell_type": "code",
   "execution_count": 23,
   "metadata": {},
   "outputs": [],
   "source": [
    "parameters = {\"alpha\":[0.0001, 0.001, 0.01, 0.1]}"
   ]
  },
  {
   "cell_type": "code",
   "execution_count": 24,
   "metadata": {},
   "outputs": [
    {
     "name": "stdout",
     "output_type": "stream",
     "text": [
      "GridSearchCV(cv=10, error_score='raise-deprecating',\n",
      "       estimator=Ridge(alpha=1.0, copy_X=True, fit_intercept=True, max_iter=None,\n",
      "   normalize=False, random_state=None, solver='auto', tol=0.001),\n",
      "       fit_params=None, iid='warn', n_jobs=20,\n",
      "       param_grid={'alpha': [0.0001, 0.001, 0.01, 0.1]},\n",
      "       pre_dispatch='2*n_jobs', refit=True, return_train_score='warn',\n",
      "       scoring='r2', verbose=0)\n"
     ]
    }
   ],
   "source": [
    "ridge = Ridge()\n",
    "ridge_grid = GridSearchCV(estimator=ridge, param_grid=parameters, cv=10, scoring=\"r2\", n_jobs=20)\n",
    "print(ridge_grid)"
   ]
  },
  {
   "cell_type": "code",
   "execution_count": 25,
   "metadata": {},
   "outputs": [
    {
     "name": "stdout",
     "output_type": "stream",
     "text": [
      "(47496, 8)\n",
      "(47496,)\n"
     ]
    },
    {
     "data": {
      "text/plain": [
       "GridSearchCV(cv=10, error_score='raise-deprecating',\n",
       "       estimator=Ridge(alpha=1.0, copy_X=True, fit_intercept=True, max_iter=None,\n",
       "   normalize=False, random_state=None, solver='auto', tol=0.001),\n",
       "       fit_params=None, iid='warn', n_jobs=20,\n",
       "       param_grid={'alpha': [0.0001, 0.001, 0.01, 0.1]},\n",
       "       pre_dispatch='2*n_jobs', refit=True, return_train_score='warn',\n",
       "       scoring='r2', verbose=0)"
      ]
     },
     "execution_count": 25,
     "metadata": {},
     "output_type": "execute_result"
    }
   ],
   "source": [
    "print(X_train.shape)\n",
    "print(y_train.shape)\n",
    "ridge_grid.fit(X_trainJ, y_train)"
   ]
  },
  {
   "cell_type": "code",
   "execution_count": 26,
   "metadata": {},
   "outputs": [
    {
     "name": "stdout",
     "output_type": "stream",
     "text": [
      "Best parameters set found on development set:\n",
      "\n",
      "{'alpha': 0.1}\n",
      "\n",
      "Grid scores on development set:\n",
      "\n",
      "0.618 (+/-0.015) for {'alpha': 0.0001}\n",
      "0.618 (+/-0.015) for {'alpha': 0.001}\n",
      "0.618 (+/-0.015) for {'alpha': 0.01}\n",
      "0.618 (+/-0.015) for {'alpha': 0.1}\n",
      "\n"
     ]
    }
   ],
   "source": [
    "print(\"Best parameters set found on development set:\")\n",
    "print()\n",
    "print(ridge_grid.best_params_)\n",
    "print()\n",
    "print(\"Grid scores on development set:\")\n",
    "print()\n",
    "means = ridge_grid.cv_results_['mean_test_score']\n",
    "stds = ridge_grid.cv_results_['std_test_score']\n",
    "for mean, std, params in zip(means, stds, ridge_grid.cv_results_['params']):\n",
    "    print(\"%0.3f (+/-%0.03f) for %r\"\n",
    "          % (mean, std * 2, params))\n",
    "print()"
   ]
  },
  {
   "cell_type": "markdown",
   "metadata": {},
   "source": [
    "#### Lasso"
   ]
  },
  {
   "cell_type": "code",
   "execution_count": 27,
   "metadata": {},
   "outputs": [],
   "source": [
    "lasso = Lasso()"
   ]
  },
  {
   "cell_type": "code",
   "execution_count": 28,
   "metadata": {},
   "outputs": [
    {
     "name": "stdout",
     "output_type": "stream",
     "text": [
      "GridSearchCV(cv=10, error_score='raise-deprecating',\n",
      "       estimator=Lasso(alpha=1.0, copy_X=True, fit_intercept=True, max_iter=1000,\n",
      "   normalize=False, positive=False, precompute=False, random_state=None,\n",
      "   selection='cyclic', tol=0.0001, warm_start=False),\n",
      "       fit_params=None, iid='warn', n_jobs=20,\n",
      "       param_grid={'alpha': [0.0001, 0.001, 0.01, 0.1]},\n",
      "       pre_dispatch='2*n_jobs', refit=True, return_train_score='warn',\n",
      "       scoring='r2', verbose=0)\n"
     ]
    }
   ],
   "source": [
    "lasso_grid = GridSearchCV(estimator=lasso, param_grid=parameters, cv=10, scoring=\"r2\", n_jobs=20)\n",
    "print(lasso_grid)"
   ]
  },
  {
   "cell_type": "code",
   "execution_count": 29,
   "metadata": {},
   "outputs": [
    {
     "data": {
      "text/plain": [
       "GridSearchCV(cv=10, error_score='raise-deprecating',\n",
       "       estimator=Lasso(alpha=1.0, copy_X=True, fit_intercept=True, max_iter=1000,\n",
       "   normalize=False, positive=False, precompute=False, random_state=None,\n",
       "   selection='cyclic', tol=0.0001, warm_start=False),\n",
       "       fit_params=None, iid='warn', n_jobs=20,\n",
       "       param_grid={'alpha': [0.0001, 0.001, 0.01, 0.1]},\n",
       "       pre_dispatch='2*n_jobs', refit=True, return_train_score='warn',\n",
       "       scoring='r2', verbose=0)"
      ]
     },
     "execution_count": 29,
     "metadata": {},
     "output_type": "execute_result"
    }
   ],
   "source": [
    "lasso_grid.fit(X_trainJ, y_train)"
   ]
  },
  {
   "cell_type": "code",
   "execution_count": 30,
   "metadata": {},
   "outputs": [
    {
     "name": "stdout",
     "output_type": "stream",
     "text": [
      "Best parameters set found on development set:\n",
      "\n",
      "{'alpha': 0.0001}\n",
      "\n",
      "Grid scores on development set:\n",
      "\n",
      "0.622 (+/-0.013) for {'alpha': 0.0001}\n",
      "0.546 (+/-0.009) for {'alpha': 0.001}\n",
      "0.165 (+/-0.007) for {'alpha': 0.01}\n",
      "-0.000 (+/-0.001) for {'alpha': 0.1}\n",
      "\n"
     ]
    }
   ],
   "source": [
    "print(\"Best parameters set found on development set:\")\n",
    "print()\n",
    "print(lasso_grid.best_params_)\n",
    "print()\n",
    "print(\"Grid scores on development set:\")\n",
    "print()\n",
    "means = lasso_grid.cv_results_['mean_test_score']\n",
    "stds = lasso_grid.cv_results_['std_test_score']\n",
    "for mean, std, params in zip(means, stds, lasso_grid.cv_results_['params']):\n",
    "    print(\"%0.3f (+/-%0.03f) for %r\"\n",
    "          % (mean, std * 2, params))\n",
    "print()"
   ]
  },
  {
   "cell_type": "markdown",
   "metadata": {},
   "source": [
    "#### Elastic Net"
   ]
  },
  {
   "cell_type": "code",
   "execution_count": 31,
   "metadata": {},
   "outputs": [],
   "source": [
    "ElasticNet = ElasticNet()"
   ]
  },
  {
   "cell_type": "code",
   "execution_count": 32,
   "metadata": {},
   "outputs": [
    {
     "name": "stdout",
     "output_type": "stream",
     "text": [
      "GridSearchCV(cv=10, error_score='raise-deprecating',\n",
      "       estimator=ElasticNet(alpha=1.0, copy_X=True, fit_intercept=True, l1_ratio=0.5,\n",
      "      max_iter=1000, normalize=False, positive=False, precompute=False,\n",
      "      random_state=None, selection='cyclic', tol=0.0001, warm_start=False),\n",
      "       fit_params=None, iid='warn', n_jobs=20,\n",
      "       param_grid={'alpha': [0.0001, 0.001, 0.01, 0.1]},\n",
      "       pre_dispatch='2*n_jobs', refit=True, return_train_score='warn',\n",
      "       scoring='r2', verbose=0)\n"
     ]
    }
   ],
   "source": [
    "en_grid = GridSearchCV(estimator=ElasticNet, param_grid=parameters, cv=10, scoring=\"r2\", n_jobs=20)\n",
    "print(en_grid)"
   ]
  },
  {
   "cell_type": "code",
   "execution_count": 33,
   "metadata": {},
   "outputs": [
    {
     "data": {
      "text/plain": [
       "GridSearchCV(cv=10, error_score='raise-deprecating',\n",
       "       estimator=ElasticNet(alpha=1.0, copy_X=True, fit_intercept=True, l1_ratio=0.5,\n",
       "      max_iter=1000, normalize=False, positive=False, precompute=False,\n",
       "      random_state=None, selection='cyclic', tol=0.0001, warm_start=False),\n",
       "       fit_params=None, iid='warn', n_jobs=20,\n",
       "       param_grid={'alpha': [0.0001, 0.001, 0.01, 0.1]},\n",
       "       pre_dispatch='2*n_jobs', refit=True, return_train_score='warn',\n",
       "       scoring='r2', verbose=0)"
      ]
     },
     "execution_count": 33,
     "metadata": {},
     "output_type": "execute_result"
    }
   ],
   "source": [
    "en_grid.fit(X_trainJ, y_train)"
   ]
  },
  {
   "cell_type": "code",
   "execution_count": 34,
   "metadata": {},
   "outputs": [
    {
     "name": "stdout",
     "output_type": "stream",
     "text": [
      "Best parameters set found on development set:\n",
      "\n",
      "{'alpha': 0.0001}\n",
      "\n",
      "Grid scores on development set:\n",
      "\n",
      "0.623 (+/-0.014) for {'alpha': 0.0001}\n",
      "0.563 (+/-0.008) for {'alpha': 0.001}\n",
      "0.198 (+/-0.003) for {'alpha': 0.01}\n",
      "-0.000 (+/-0.001) for {'alpha': 0.1}\n",
      "\n"
     ]
    }
   ],
   "source": [
    "print(\"Best parameters set found on development set:\")\n",
    "print()\n",
    "print(en_grid.best_params_)\n",
    "print()\n",
    "print(\"Grid scores on development set:\")\n",
    "print()\n",
    "means = en_grid.cv_results_['mean_test_score']\n",
    "stds = en_grid.cv_results_['std_test_score']\n",
    "for mean, std, params in zip(means, stds, en_grid.cv_results_['params']):\n",
    "    print(\"%0.3f (+/-%0.03f) for %r\"\n",
    "          % (mean, std * 2, params))\n",
    "print()"
   ]
  },
  {
   "cell_type": "markdown",
   "metadata": {},
   "source": [
    "### Predict outputs"
   ]
  },
  {
   "cell_type": "code",
   "execution_count": 37,
   "metadata": {},
   "outputs": [
    {
     "data": {
      "text/plain": [
       "ElasticNet(alpha=0.0001, copy_X=True, fit_intercept=True, l1_ratio=0.5,\n",
       "      max_iter=1000, normalize=False, positive=False, precompute=False,\n",
       "      random_state=None, selection='cyclic', tol=0.0001, warm_start=False)"
      ]
     },
     "execution_count": 37,
     "metadata": {},
     "output_type": "execute_result"
    }
   ],
   "source": [
    "en_final = ElasticNet(alpha=0.0001)\n",
    "en_final.fit(X_trainJ, y_train)\n"
   ]
  },
  {
   "cell_type": "code",
   "execution_count": 38,
   "metadata": {},
   "outputs": [
    {
     "data": {
      "text/plain": [
       "array([4.15600138, 3.72983652, 3.94391182, ..., 0.08668382, 3.70109151,\n",
       "       3.59950643])"
      ]
     },
     "execution_count": 38,
     "metadata": {},
     "output_type": "execute_result"
    }
   ],
   "source": [
    "y_pred = en_final.predict(X_testJ)\n",
    "y_pred"
   ]
  },
  {
   "cell_type": "code",
   "execution_count": 39,
   "metadata": {},
   "outputs": [
    {
     "data": {
      "text/plain": [
       "0.6210477250037865"
      ]
     },
     "execution_count": 39,
     "metadata": {},
     "output_type": "execute_result"
    }
   ],
   "source": [
    "r2_score(y_test, y_pred)"
   ]
  },
  {
   "cell_type": "code",
   "execution_count": 40,
   "metadata": {},
   "outputs": [],
   "source": [
    "def genCat(cat, common_cats):\n",
    "    row = pd.DataFrame(columns=common_cats)\n",
    "    row.loc[0] = [0]*len(common_cats)\n",
    "    row.loc[:, cat] = 1\n",
    "    row = row.astype('int64')\n",
    "    row = csr_matrix(row.values)\n",
    "    return row"
   ]
  },
  {
   "cell_type": "code",
   "execution_count": 41,
   "metadata": {},
   "outputs": [],
   "source": [
    "def genCity(city):\n",
    "    row = pd.DataFrame(columns=cities)\n",
    "    row.loc[0] = [0]*len(cities)\n",
    "    row.loc[:, city] = 1\n",
    "    row = row.astype('int64')\n",
    "    row = csr_matrix(row.values)\n",
    "    return row"
   ]
  },
  {
   "cell_type": "code",
   "execution_count": 42,
   "metadata": {},
   "outputs": [],
   "source": [
    "def get_size(text, city, cat):\n",
    "\n",
    "    text_tf = vectorizer.transform(text)\n",
    "    text_enc = genCity(city)\n",
    "    cat_row = genCat(cat, common_cats)\n",
    "\n",
    "    text_joined = hstack([text_tf, text_enc, cat_row], format=\"csr\")\n",
    "    return text_joined"
   ]
  },
  {
   "cell_type": "code",
   "execution_count": 43,
   "metadata": {},
   "outputs": [],
   "source": [
    "def predict_city_cat(text, city, cat):\n",
    "\n",
    "    text_tf = vectorizer.transform(text)\n",
    "    text_enc = genCity(city)\n",
    "    cat_row = genCat(cat, common_cats)\n",
    "\n",
    "    text_joined = hstack([text_tf, text_enc, cat_row], format=\"csr\")\n",
    "    return en_final.predict(text_joined)"
   ]
  },
  {
   "cell_type": "code",
   "execution_count": 44,
   "metadata": {},
   "outputs": [
    {
     "name": "stdout",
     "output_type": "stream",
     "text": [
      "[3.285874]\n",
      "[3.25266299]\n",
      "[3.32257455]\n",
      "[3.28936353]\n",
      "\n",
      "[4.29406407]\n",
      "[4.26085305]\n",
      "[4.33076461]\n",
      "[4.29755359]\n",
      "[3.73962171]\n",
      "\n",
      "[2.33368915]\n",
      "[2.30047813]\n",
      "[2.37038969]\n",
      "[2.33717867]\n"
     ]
    }
   ],
   "source": [
    "print(predict_city_cat([\"this is a review\"], \"phoenix\", \"Pizza\"))\n",
    "print(predict_city_cat([\"this is a review\"], \"las vegas\", \"Pizza\"))\n",
    "print(predict_city_cat([\"this is a review\"], \"phoenix\", \"Chinese\"))\n",
    "print(predict_city_cat([\"this is a review\"], \"las vegas\", \"Chinese\"))\n",
    "print()\n",
    "print(predict_city_cat([\"This is a great restaurant!\"], \"phoenix\", \"Pizza\"))\n",
    "print(predict_city_cat([\"This is a great restaurant!\"], \"las vegas\", \"Pizza\"))\n",
    "print(predict_city_cat([\"This is a great restaurant!\"], \"phoenix\", \"Chinese\"))\n",
    "print(predict_city_cat([\"This is a great restaurant!\"], \"las vegas\", \"Chinese\"))\n",
    "print(predict_city_cat([\"This is a good review\"], \"las vegas\", \"Chinese\"))\n",
    "print()\n",
    "print(predict_city_cat([\"This is a bad restaurant!\"], \"phoenix\", \"Pizza\"))\n",
    "print(predict_city_cat([\"This is a bad restaurant!\"], \"las vegas\", \"Pizza\"))\n",
    "print(predict_city_cat([\"This is a bad restaurant!\"], \"phoenix\", \"Chinese\"))\n",
    "print(predict_city_cat([\"This is a bad restaurant!\"], \"las vegas\", \"Chinese\"))\n"
   ]
  },
  {
   "cell_type": "markdown",
   "metadata": {},
   "source": [
    "### pickle"
   ]
  },
  {
   "cell_type": "code",
   "execution_count": null,
   "metadata": {},
   "outputs": [],
   "source": [
    "with open('enc.pkl', 'wb') as enc_file:\n",
    "    pickle.dump(enc, enc_file)\n",
    "\n",
    "with open('vec.pkl', 'wb') as vec_file:\n",
    "    pickle.dump(vectorizer, vec_file)\n",
    "\n",
    "with open('model.pkl', 'wb') as file:\n",
    "    pickle.dump(en_final, file)"
   ]
  },
  {
   "cell_type": "code",
   "execution_count": null,
   "metadata": {},
   "outputs": [],
   "source": [
    "s = pickle.dumps(en_final)\n",
    "p = pickle.loads(s)"
   ]
  },
  {
   "cell_type": "code",
   "execution_count": null,
   "metadata": {},
   "outputs": [],
   "source": [
    "def pickle_predict(text, city, cat):\n",
    "\n",
    "    text_tf = vectorizer.transform(text)\n",
    "    text_enc = genCity(city)\n",
    "    cat_row = genCat(cat, common_cats)\n",
    "\n",
    "    text_joined = hstack([text_tf, text_enc, cat_row], format=\"csr\")\n",
    "    return p.predict(text_joined)"
   ]
  },
  {
   "cell_type": "code",
   "execution_count": null,
   "metadata": {},
   "outputs": [],
   "source": [
    "print(pickle_predict([\"this is a review\"], \"phoenix\", \"Pizza\"))\n",
    "print(pickle_predict([\"this is a review\"], \"las vegas\", \"Pizza\"))\n",
    "print(pickle_predict([\"this is a review\"], \"phoenix\", \"Chinese\"))\n",
    "print(pickle_predict([\"this is a review\"], \"las vegas\", \"Chinese\"))\n",
    "print()\n",
    "print(pickle_predict([\"This is a great restaurant!\"], \"phoenix\", \"Pizza\"))\n",
    "print(pickle_predict([\"This is a great restaurant!\"], \"las vegas\", \"Pizza\"))\n",
    "print(pickle_predict([\"This is a great restaurant!\"], \"phoenix\", \"Chinese\"))\n",
    "print(pickle_predict([\"This is a great restaurant!\"], \"las vegas\", \"Chinese\"))\n",
    "print(pickle_predict([\"This is a good review\"], \"las vegas\", \"Chinese\"))\n",
    "print()\n",
    "print(pickle_predict([\"This is a bad restaurant!\"], \"phoenix\", \"Pizza\"))\n",
    "print(pickle_predict([\"This is a bad restaurant!\"], \"las vegas\", \"Pizza\"))\n",
    "print(pickle_predict([\"This is a bad restaurant!\"], \"phoenix\", \"Chinese\"))\n",
    "print(pickle_predict([\"This is a bad restaurant!\"], \"las vegas\", \"Chinese\"))"
   ]
  },
  {
   "cell_type": "code",
   "execution_count": null,
   "metadata": {},
   "outputs": [],
   "source": []
  }
 ],
 "metadata": {
  "kernelspec": {
   "display_name": "Python 3",
   "language": "python",
   "name": "python3"
  },
  "language_info": {
   "codemirror_mode": {
    "name": "ipython",
    "version": 3
   },
   "file_extension": ".py",
   "mimetype": "text/x-python",
   "name": "python",
   "nbconvert_exporter": "python",
   "pygments_lexer": "ipython3",
   "version": "3.6.7"
  }
 },
 "nbformat": 4,
 "nbformat_minor": 2
}
